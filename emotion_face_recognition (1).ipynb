{
  "nbformat": 4,
  "nbformat_minor": 0,
  "metadata": {
    "kernelspec": {
      "display_name": "Python 3",
      "language": "python",
      "name": "python3"
    },
    "language_info": {
      "codemirror_mode": {
        "name": "ipython",
        "version": 3
      },
      "file_extension": ".py",
      "mimetype": "text/x-python",
      "name": "python",
      "nbconvert_exporter": "python",
      "pygments_lexer": "ipython3",
      "version": "3.6.6"
    },
    "colab": {
      "name": "emotion_face_recognition.ipynb",
      "provenance": [],
      "collapsed_sections": []
    },
    "accelerator": "GPU"
  },
  "cells": [
    {
      "cell_type": "code",
      "metadata": {
        "_cell_guid": "79c7e3d0-c299-4dcb-8224-4455121ee9b0",
        "_uuid": "d629ff2d2480ee46fbb7e2d37f6b5fab8052498a",
        "id": "ZHZ1rHQevPTX"
      },
      "source": [
        "'''\n",
        "First, we need to enable GPU in the Google Colab to get fast processing. \n",
        "We can enable it by going to ‘Runtime’ in Google Colab and then clicking \n",
        "on ‘Change runtime type’ and select GPU. Once it is enabled we will now \n",
        "import the required libraries for building the network.\n",
        "'''\n",
        "\n",
        "import pandas as pd\n",
        "from matplotlib import pyplot\n",
        "from math import sqrt \n",
        "import numpy as np\n",
        "from IPython.display import display \n",
        "from keras.utils import np_utils\n",
        "from keras.utils import plot_model\n",
        "from keras.models import Sequential\n",
        "from keras.layers import Conv2D, MaxPool2D, Dense, Flatten, Dropout\n",
        "from keras.optimizers import Adam, SGD\n",
        "from matplotlib import pyplot as plt\n",
        "from sklearn.metrics import confusion_matrix\n",
        "import itertools\n",
        "import warnings\n",
        "warnings.filterwarnings('ignore')\n",
        "%matplotlib inline"
      ],
      "execution_count": 3,
      "outputs": []
    },
    {
      "cell_type": "code",
      "metadata": {
        "colab": {
          "base_uri": "https://localhost:8080/",
          "height": 204
        },
        "id": "GRKn8YjyA1Pr",
        "outputId": "ba5a6b98-a0bf-409d-e6af-a58b97397eef"
      },
      "source": [
        "'''\n",
        "The name of the data set is fer2013 which is an open-source data set that was made\n",
        "publicly available for a Kaggle competition. It contains 48 X 48-pixel grayscale images of the face. \n",
        "There are seven categories (0=Angry, 1=Disgust, 2=Fear, 3=Happy, 4=Sad, 5=Surprise, 6=Neutral) present in the data. \n",
        "The CSV file contains two columns that are emotion that contains numeric code from 0-6 and a pixel \n",
        "column that includes a string surrounded in quotes for each image.\n",
        "'''\n",
        "\n",
        "data= pd.read_csv('fer2013.csv')\n",
        "data.head()"
      ],
      "execution_count": 4,
      "outputs": [
        {
          "output_type": "execute_result",
          "data": {
            "text/html": [
              "<div>\n",
              "<style scoped>\n",
              "    .dataframe tbody tr th:only-of-type {\n",
              "        vertical-align: middle;\n",
              "    }\n",
              "\n",
              "    .dataframe tbody tr th {\n",
              "        vertical-align: top;\n",
              "    }\n",
              "\n",
              "    .dataframe thead th {\n",
              "        text-align: right;\n",
              "    }\n",
              "</style>\n",
              "<table border=\"1\" class=\"dataframe\">\n",
              "  <thead>\n",
              "    <tr style=\"text-align: right;\">\n",
              "      <th></th>\n",
              "      <th>emotion</th>\n",
              "      <th>pixels</th>\n",
              "      <th>Usage</th>\n",
              "    </tr>\n",
              "  </thead>\n",
              "  <tbody>\n",
              "    <tr>\n",
              "      <th>0</th>\n",
              "      <td>0</td>\n",
              "      <td>70 80 82 72 58 58 60 63 54 58 60 48 89 115 121...</td>\n",
              "      <td>Training</td>\n",
              "    </tr>\n",
              "    <tr>\n",
              "      <th>1</th>\n",
              "      <td>0</td>\n",
              "      <td>151 150 147 155 148 133 111 140 170 174 182 15...</td>\n",
              "      <td>Training</td>\n",
              "    </tr>\n",
              "    <tr>\n",
              "      <th>2</th>\n",
              "      <td>2</td>\n",
              "      <td>231 212 156 164 174 138 161 173 182 200 106 38...</td>\n",
              "      <td>Training</td>\n",
              "    </tr>\n",
              "    <tr>\n",
              "      <th>3</th>\n",
              "      <td>4</td>\n",
              "      <td>24 32 36 30 32 23 19 20 30 41 21 22 32 34 21 1...</td>\n",
              "      <td>Training</td>\n",
              "    </tr>\n",
              "    <tr>\n",
              "      <th>4</th>\n",
              "      <td>6</td>\n",
              "      <td>4 0 0 0 0 0 0 0 0 0 0 0 3 15 23 28 48 50 58 84...</td>\n",
              "      <td>Training</td>\n",
              "    </tr>\n",
              "  </tbody>\n",
              "</table>\n",
              "</div>"
            ],
            "text/plain": [
              "   emotion                                             pixels     Usage\n",
              "0        0  70 80 82 72 58 58 60 63 54 58 60 48 89 115 121...  Training\n",
              "1        0  151 150 147 155 148 133 111 140 170 174 182 15...  Training\n",
              "2        2  231 212 156 164 174 138 161 173 182 200 106 38...  Training\n",
              "3        4  24 32 36 30 32 23 19 20 30 41 21 22 32 34 21 1...  Training\n",
              "4        6  4 0 0 0 0 0 0 0 0 0 0 0 3 15 23 28 48 50 58 84...  Training"
            ]
          },
          "metadata": {
            "tags": []
          },
          "execution_count": 4
        }
      ]
    },
    {
      "cell_type": "code",
      "metadata": {
        "_uuid": "9747ec111b84d59523991febdf88f94bfb9876cd",
        "id": "p-m9sWRIvPUK"
      },
      "source": [
        "from pylab import rcParams\n",
        "rcParams['figure.figsize'] = 15, 10"
      ],
      "execution_count": 5,
      "outputs": []
    },
    {
      "cell_type": "code",
      "metadata": {
        "_uuid": "73867bf44a012e4c966616fc7cbfc2cb2eff9fe8",
        "colab": {
          "base_uri": "https://localhost:8080/"
        },
        "id": "rdaMNJrzvPUL",
        "outputId": "3ccaa760-6337-4f54-8340-708b3a6aa0d2"
      },
      "source": [
        "'''\n",
        "There are about 28,700 training images, 3,600 validation images, and 3,600 images for testing. \n",
        "Out of these, approximately 5000 images are reserved for anger, 550 images are reserved for disgust emotion, \n",
        "5100 for fear, 9000 for happy face, 6000 for sad emotion, 4000 for surprise, and 6200 for neutral faces.\n",
        "'''\n",
        "\n",
        "data.emotion.value_counts()"
      ],
      "execution_count": 6,
      "outputs": [
        {
          "output_type": "execute_result",
          "data": {
            "text/plain": [
              "3    8989\n",
              "6    6198\n",
              "4    6077\n",
              "2    5121\n",
              "0    4953\n",
              "5    4002\n",
              "1     547\n",
              "Name: emotion, dtype: int64"
            ]
          },
          "metadata": {
            "tags": []
          },
          "execution_count": 6
        }
      ]
    },
    {
      "cell_type": "code",
      "metadata": {
        "_uuid": "29ef4814d4323333088baae02d1a96f83db1c3f4",
        "id": "Q6_8DvwivPUN"
      },
      "source": [
        "num_classes = 7\n",
        "width = 48\n",
        "height = 48\n",
        "emotion_labels = [\"Angry\", \"Disgust\", \"Fear\", \"Happy\", \"Sad\", \"Surprise\", \"Neutral\"]\n",
        "classes=np.array((\"Angry\", \"Disgust\", \"Fear\", \"Happy\", \"Sad\", \"Surprise\", \"Neutral\"))"
      ],
      "execution_count": 7,
      "outputs": []
    },
    {
      "cell_type": "code",
      "metadata": {
        "_uuid": "4526572ff9f2f53ae8cf101c3ecfcf63cfcdcafa",
        "colab": {
          "base_uri": "https://localhost:8080/"
        },
        "id": "j9pQn7CJvPUQ",
        "outputId": "80595750-e7a8-4c67-8bc3-d383e34c257c"
      },
      "source": [
        "data.Usage.value_counts() "
      ],
      "execution_count": 8,
      "outputs": [
        {
          "output_type": "execute_result",
          "data": {
            "text/plain": [
              "Training       28709\n",
              "PublicTest      3589\n",
              "PrivateTest     3589\n",
              "Name: Usage, dtype: int64"
            ]
          },
          "metadata": {
            "tags": []
          },
          "execution_count": 8
        }
      ]
    },
    {
      "cell_type": "code",
      "metadata": {
        "_uuid": "2a7111d3045580ae1ff21b7ae770c4be7abeebbe",
        "id": "L_Tm70E9vPUU"
      },
      "source": [
        "'''\n",
        "We then create different lists of storing the testing and training image pixels. \n",
        "After this, we check if the pixel belongs to training then we append it into the \n",
        "training list & training labels. Similarly, for pixels belonging to the Private and Public test, \n",
        "we append it to validation and testing lists.\n",
        "'''\n",
        "\n",
        "X_train, y_train = [], []\n",
        "X_val, y_val = [], []\n",
        "X_test, y_test = [], []\n",
        "for index, row in data.iterrows():\n",
        "    k = row['pixels'].split(\" \")\n",
        "    if row['Usage'] == 'Training':\n",
        "        X_train.append(np.array(k))\n",
        "        y_train.append(row['emotion'])\n",
        "    elif row['Usage'] == 'PublicTest':\n",
        "        X_test.append(np.array(k))\n",
        "        y_test.append(row['emotion'])\n",
        "    elif row['Usage'] == 'PrivateTest':\n",
        "        X_val.append(np.array(k))\n",
        "        y_val.append(row['emotion'])"
      ],
      "execution_count": 9,
      "outputs": []
    },
    {
      "cell_type": "code",
      "metadata": {
        "_uuid": "afa2e2922ad58ba02230f21ea04dd2111ba6d7f3",
        "id": "asVe4sn5vPUW"
      },
      "source": [
        "'''\n",
        "Once we have added the pixel to the lists then we convert them into NumPy arrays and reshape X_train, \n",
        "X_val and X_test. After doing this we convert the training labels, \n",
        "validation labels and testing labels into categorical ones.\n",
        "'''\n",
        "\n",
        "X_train = np.array(X_train).astype(float)\n",
        "y_train = np.array(y_train)\n",
        "X_val = np.array(X_val).astype(float)\n",
        "y_val = np.array(y_val)\n",
        "X_test = np.array(X_test).astype(float)\n",
        "y_test = np.array(y_test)\n",
        "\n",
        "X_train = X_train.reshape(X_train.shape[0], 48, 48, 1)\n",
        "X_val = X_val.reshape(X_val.shape[0], 48, 48, 1)\n",
        "X_test = X_test.reshape(X_test.shape[0], 48, 48, 1)\n",
        "\n",
        "y_train= np_utils.to_categorical(y_train, num_classes=num_classes)\n",
        "y_val= np_utils.to_categorical(y_val, num_classes=num_classes)\n",
        "y_test = np_utils.to_categorical(y_test, num_classes=num_classes)"
      ],
      "execution_count": 10,
      "outputs": []
    },
    {
      "cell_type": "code",
      "metadata": {
        "id": "uCZDM2cLvPUc"
      },
      "source": [
        "'''\n",
        "We considered the following network architecture in our investigation:\n",
        "\n",
        "We initialized our model by dividing it the convolution layers into four different blocks. \n",
        "The first block contains two convolution layers with 64 different filters and \n",
        "‘ReLU’ activation unit followed by a Max pooling layer with two strides. \n",
        "The next block contains two convolution layers with 128 different filters and \n",
        "‘ReLU’ activation unit followed by a Max pooling layer with two strides. \n",
        "Third block contains three convolution layers with 128 different filters and \n",
        "‘ReLU’ activation unit followed by a Max pooling layer with two strides. \n",
        "Finally, the fourth block contains 3 convolution layers with 512 different filters and \n",
        "‘ReLU’ activation unit followed by a Max pooling layer with two strides.\n",
        "\n",
        "Then the model was flattened and two dense layer having 4096 neurons along with \n",
        "‘ReLU’ activation function and a dropout of 0.3 was added. Lastly, an output layer \n",
        "with 7 neurons (each neuron representing a specific class) was added to the previous \n",
        "fully connected layer and outputs the required classes or their probabilities using softmax activation function.\n",
        "'''\n",
        "\n",
        "def CNN_Model( input_shape = (48,48,1) ):\n",
        "    # first input model\n",
        "    num_classes = 7\n",
        "    \n",
        "    model = Sequential()\n",
        "\n",
        "    #the 1-st block\n",
        "    model.add(Conv2D(64, 3, activation = 'relu', padding = \"same\", input_shape = input_shape))\n",
        "    model.add(Conv2D(64, 3, padding = \"same\", activation='relu'))\n",
        "    model.add(MaxPool2D( (2,2), strides = 2))\n",
        "\n",
        "    model.add(Conv2D(128, 3, padding = \"same\", activation = 'relu'))\n",
        "    model.add(Conv2D(128, 3, padding = \"same\", activation = 'relu'))\n",
        "    model.add(MaxPool2D( (2,2), strides = 2))\n",
        "\n",
        "    model.add(Conv2D(256, 3, padding = \"same\", activation = 'relu'))\n",
        "    model.add(Conv2D(256, 3, padding = \"same\", activation = 'relu'))\n",
        "    model.add(Conv2D(256, 3, padding = \"same\", activation = 'relu'))\n",
        "    model.add(MaxPool2D( (2,2), strides = 2))\n",
        "\n",
        "    model.add(Conv2D(512, 3, padding = \"same\", activation = 'relu'))\n",
        "    model.add(Conv2D(512, 3, padding = \"same\", activation = 'relu'))\n",
        "    model.add(Conv2D(512, 3, padding = \"same\", activation = 'relu'))\n",
        "    model.add(MaxPool2D( (2,2), strides = 2))\n",
        "\n",
        "    model.add(Flatten())\n",
        "    model.add(Dense(4096, activation = 'relu'))\n",
        "    model.add(Dropout(0.3))\n",
        "    model.add(Dense(4096, activation = 'relu'))\n",
        "    model.add(Dropout(0.3))\n",
        "    model.add(Dense(num_classes, activation = 'softmax'))\n",
        "    # summary layers\n",
        "    print(model.summary())\n",
        "\n",
        "    return model"
      ],
      "execution_count": 11,
      "outputs": []
    },
    {
      "cell_type": "code",
      "metadata": {
        "colab": {
          "base_uri": "https://localhost:8080/"
        },
        "id": "G5NN0I2jvPUi",
        "outputId": "d9957ec3-39d9-47eb-8639-6286c35dd539"
      },
      "source": [
        "model = CNN_Model()\n",
        "\n",
        "'''\n",
        "After this, we compile the model using Adam as an optimizer, \n",
        "loss as categorical cross-entropy, and metrics as accuracy as shown below.\n",
        "'''\n",
        "\n",
        "model.compile(loss='categorical_crossentropy', optimizer=Adam( lr=0.0001, decay=1e-6 ), metrics = ['accuracy']) "
      ],
      "execution_count": 12,
      "outputs": [
        {
          "output_type": "stream",
          "text": [
            "Model: \"sequential\"\n",
            "_________________________________________________________________\n",
            "Layer (type)                 Output Shape              Param #   \n",
            "=================================================================\n",
            "conv2d (Conv2D)              (None, 48, 48, 64)        640       \n",
            "_________________________________________________________________\n",
            "conv2d_1 (Conv2D)            (None, 48, 48, 64)        36928     \n",
            "_________________________________________________________________\n",
            "max_pooling2d (MaxPooling2D) (None, 24, 24, 64)        0         \n",
            "_________________________________________________________________\n",
            "conv2d_2 (Conv2D)            (None, 24, 24, 128)       73856     \n",
            "_________________________________________________________________\n",
            "conv2d_3 (Conv2D)            (None, 24, 24, 128)       147584    \n",
            "_________________________________________________________________\n",
            "max_pooling2d_1 (MaxPooling2 (None, 12, 12, 128)       0         \n",
            "_________________________________________________________________\n",
            "conv2d_4 (Conv2D)            (None, 12, 12, 256)       295168    \n",
            "_________________________________________________________________\n",
            "conv2d_5 (Conv2D)            (None, 12, 12, 256)       590080    \n",
            "_________________________________________________________________\n",
            "conv2d_6 (Conv2D)            (None, 12, 12, 256)       590080    \n",
            "_________________________________________________________________\n",
            "max_pooling2d_2 (MaxPooling2 (None, 6, 6, 256)         0         \n",
            "_________________________________________________________________\n",
            "conv2d_7 (Conv2D)            (None, 6, 6, 512)         1180160   \n",
            "_________________________________________________________________\n",
            "conv2d_8 (Conv2D)            (None, 6, 6, 512)         2359808   \n",
            "_________________________________________________________________\n",
            "conv2d_9 (Conv2D)            (None, 6, 6, 512)         2359808   \n",
            "_________________________________________________________________\n",
            "max_pooling2d_3 (MaxPooling2 (None, 3, 3, 512)         0         \n",
            "_________________________________________________________________\n",
            "flatten (Flatten)            (None, 4608)              0         \n",
            "_________________________________________________________________\n",
            "dense (Dense)                (None, 4096)              18878464  \n",
            "_________________________________________________________________\n",
            "dropout (Dropout)            (None, 4096)              0         \n",
            "_________________________________________________________________\n",
            "dense_1 (Dense)              (None, 4096)              16781312  \n",
            "_________________________________________________________________\n",
            "dropout_1 (Dropout)          (None, 4096)              0         \n",
            "_________________________________________________________________\n",
            "dense_2 (Dense)              (None, 7)                 28679     \n",
            "=================================================================\n",
            "Total params: 43,322,567\n",
            "Trainable params: 43,322,567\n",
            "Non-trainable params: 0\n",
            "_________________________________________________________________\n",
            "None\n"
          ],
          "name": "stdout"
        }
      ]
    },
    {
      "cell_type": "code",
      "metadata": {
        "_uuid": "2f8e528c62477436ec78c1466ce639362600e89c",
        "id": "K1hOfcDEvPUk"
      },
      "source": [
        "import tensorflow as tf\n",
        "tf.config.run_functions_eagerly(True)"
      ],
      "execution_count": 13,
      "outputs": []
    },
    {
      "cell_type": "code",
      "metadata": {
        "colab": {
          "base_uri": "https://localhost:8080/"
        },
        "id": "jujhwe5hJZfH",
        "outputId": "9232a9c4-2a8f-426b-9255-b6f55b4f583b"
      },
      "source": [
        "'''\n",
        "After compiling the model we then fit the data for training and validation. \n",
        "Here, we are taking the batch size to be 32 with 30 epochs. \n",
        "You can tune them according to your wish.\n",
        "'''\n",
        "\n",
        "history = model.fit( X_train, y_train, batch_size = 32, epochs = 30, verbose = 1, validation_data = (X_val, y_val))"
      ],
      "execution_count": 15,
      "outputs": [
        {
          "output_type": "stream",
          "text": [
            "Epoch 1/30\n",
            "898/898 [==============================] - 44s 49ms/step - loss: 1.4963 - accuracy: 0.4150 - val_loss: 1.3386 - val_accuracy: 0.4887\n",
            "Epoch 2/30\n",
            "898/898 [==============================] - 43s 48ms/step - loss: 1.2595 - accuracy: 0.5173 - val_loss: 1.2131 - val_accuracy: 0.5322\n",
            "Epoch 3/30\n",
            "898/898 [==============================] - 43s 48ms/step - loss: 1.1109 - accuracy: 0.5757 - val_loss: 1.1378 - val_accuracy: 0.5522\n",
            "Epoch 4/30\n",
            "898/898 [==============================] - 43s 48ms/step - loss: 0.9683 - accuracy: 0.6351 - val_loss: 1.0713 - val_accuracy: 0.5837\n",
            "Epoch 5/30\n",
            "898/898 [==============================] - 44s 49ms/step - loss: 0.8050 - accuracy: 0.6983 - val_loss: 1.1264 - val_accuracy: 0.5862\n",
            "Epoch 6/30\n",
            "898/898 [==============================] - 43s 48ms/step - loss: 0.6037 - accuracy: 0.7792 - val_loss: 1.2485 - val_accuracy: 0.5949\n",
            "Epoch 7/30\n",
            "898/898 [==============================] - 43s 48ms/step - loss: 0.4054 - accuracy: 0.8557 - val_loss: 1.4309 - val_accuracy: 0.5874\n",
            "Epoch 8/30\n",
            "898/898 [==============================] - 43s 48ms/step - loss: 0.2682 - accuracy: 0.9052 - val_loss: 1.7615 - val_accuracy: 0.5946\n",
            "Epoch 9/30\n",
            "898/898 [==============================] - 43s 48ms/step - loss: 0.1877 - accuracy: 0.9354 - val_loss: 1.9720 - val_accuracy: 0.5921\n",
            "Epoch 10/30\n",
            "898/898 [==============================] - 43s 48ms/step - loss: 0.1591 - accuracy: 0.9454 - val_loss: 2.1438 - val_accuracy: 0.6113\n",
            "Epoch 11/30\n",
            "898/898 [==============================] - 43s 48ms/step - loss: 0.1338 - accuracy: 0.9566 - val_loss: 2.0392 - val_accuracy: 0.5938\n",
            "Epoch 12/30\n",
            "898/898 [==============================] - 43s 48ms/step - loss: 0.1249 - accuracy: 0.9588 - val_loss: 2.1377 - val_accuracy: 0.5988\n",
            "Epoch 13/30\n",
            "898/898 [==============================] - 43s 48ms/step - loss: 0.1119 - accuracy: 0.9644 - val_loss: 2.0705 - val_accuracy: 0.6018\n",
            "Epoch 14/30\n",
            "898/898 [==============================] - 43s 48ms/step - loss: 0.1015 - accuracy: 0.9661 - val_loss: 2.3587 - val_accuracy: 0.6043\n",
            "Epoch 15/30\n",
            "898/898 [==============================] - 43s 48ms/step - loss: 0.1037 - accuracy: 0.9651 - val_loss: 1.9035 - val_accuracy: 0.6024\n",
            "Epoch 16/30\n",
            "898/898 [==============================] - 43s 48ms/step - loss: 0.0928 - accuracy: 0.9691 - val_loss: 2.5095 - val_accuracy: 0.5985\n",
            "Epoch 17/30\n",
            "898/898 [==============================] - 43s 48ms/step - loss: 0.0880 - accuracy: 0.9703 - val_loss: 2.0494 - val_accuracy: 0.6030\n",
            "Epoch 18/30\n",
            "898/898 [==============================] - 43s 48ms/step - loss: 0.0859 - accuracy: 0.9722 - val_loss: 2.3404 - val_accuracy: 0.6007\n",
            "Epoch 19/30\n",
            "898/898 [==============================] - 43s 48ms/step - loss: 0.0827 - accuracy: 0.9722 - val_loss: 2.1538 - val_accuracy: 0.5985\n",
            "Epoch 20/30\n",
            "898/898 [==============================] - 43s 48ms/step - loss: 0.0791 - accuracy: 0.9742 - val_loss: 2.2892 - val_accuracy: 0.5996\n",
            "Epoch 21/30\n",
            "898/898 [==============================] - 43s 48ms/step - loss: 0.0713 - accuracy: 0.9762 - val_loss: 2.4600 - val_accuracy: 0.6099\n",
            "Epoch 22/30\n",
            "898/898 [==============================] - 43s 48ms/step - loss: 0.0744 - accuracy: 0.9742 - val_loss: 2.5324 - val_accuracy: 0.5932\n",
            "Epoch 23/30\n",
            "898/898 [==============================] - 43s 48ms/step - loss: 0.0736 - accuracy: 0.9742 - val_loss: 2.3283 - val_accuracy: 0.6119\n",
            "Epoch 24/30\n",
            "898/898 [==============================] - 43s 48ms/step - loss: 0.0640 - accuracy: 0.9791 - val_loss: 2.4515 - val_accuracy: 0.6043\n",
            "Epoch 25/30\n",
            "898/898 [==============================] - 43s 48ms/step - loss: 0.0680 - accuracy: 0.9760 - val_loss: 2.6583 - val_accuracy: 0.6105\n",
            "Epoch 26/30\n",
            "898/898 [==============================] - 43s 48ms/step - loss: 0.0649 - accuracy: 0.9785 - val_loss: 2.5512 - val_accuracy: 0.6004\n",
            "Epoch 27/30\n",
            "898/898 [==============================] - 43s 48ms/step - loss: 0.0600 - accuracy: 0.9797 - val_loss: 2.2787 - val_accuracy: 0.6021\n",
            "Epoch 28/30\n",
            "898/898 [==============================] - 43s 48ms/step - loss: 0.0600 - accuracy: 0.9799 - val_loss: 2.8531 - val_accuracy: 0.5999\n",
            "Epoch 29/30\n",
            "898/898 [==============================] - 43s 48ms/step - loss: 0.0543 - accuracy: 0.9820 - val_loss: 2.4385 - val_accuracy: 0.5993\n",
            "Epoch 30/30\n",
            "898/898 [==============================] - 43s 48ms/step - loss: 0.0674 - accuracy: 0.9774 - val_loss: 2.4942 - val_accuracy: 0.6066\n"
          ],
          "name": "stdout"
        }
      ]
    },
    {
      "cell_type": "code",
      "metadata": {
        "_uuid": "af0a29045f22083852990e823c8472f0c9b96afa",
        "colab": {
          "base_uri": "https://localhost:8080/",
          "height": 329
        },
        "id": "QvVXggz_vPUn",
        "outputId": "9ea82a5f-0e4e-4433-e2b6-babe5c19416e"
      },
      "source": [
        "# visualizing losses and accuracy\n",
        "%matplotlib inline\n",
        "\n",
        "'''\n",
        "We are plotting the training and validation accuracy of thye model\n",
        "with respect to the number of epochs \n",
        "'''\n",
        "\n",
        "train_acc = history.history['accuracy']\n",
        "val_acc = history.history['val_accuracy']\n",
        "\n",
        "epochs = range(len(train_acc))\n",
        "\n",
        "plt.plot(epochs, train_acc, 'r', label = 'train_acc')\n",
        "plt.plot(epochs, val_acc, 'b', label = 'val_acc')\n",
        "plt.title('train_acc vs val_acc')\n",
        "plt.xlabel( 'epoch' )\n",
        "plt.ylabel( 'accuracy' )\n",
        "plt.legend()\n",
        "plt.figure()"
      ],
      "execution_count": 17,
      "outputs": [
        {
          "output_type": "execute_result",
          "data": {
            "text/plain": [
              "<Figure size 432x288 with 0 Axes>"
            ]
          },
          "metadata": {
            "tags": []
          },
          "execution_count": 17
        },
        {
          "output_type": "display_data",
          "data": {
            "image/png": "[encoded data removed]",
            "text/plain": [
              "<Figure size 432x288 with 1 Axes>"
            ]
          },
          "metadata": {
            "tags": [],
            "needs_background": "light"
          }
        },
        {
          "output_type": "display_data",
          "data": {
            "text/plain": [
              "<Figure size 432x288 with 0 Axes>"
            ]
          },
          "metadata": {
            "tags": []
          }
        }
      ]
    },
    {
      "cell_type": "code",
      "metadata": {
        "_uuid": "f2752392088897e7bfa24f4615456467219128f4",
        "colab": {
          "base_uri": "https://localhost:8080/"
        },
        "id": "yKGjN-uovPUq",
        "outputId": "aa45cd3b-ff52-4fa7-ae41-e0ace4a4750d"
      },
      "source": [
        "'''\n",
        "We now serialize the model to JSON and save the model weights in an hd5 file so \n",
        "that we can make use of this file to make predictions rather than training the network again. \n",
        "'''\n",
        "\n",
        "model_json = model.to_json()\n",
        "with open(\"model.json\", \"w\") as json_file:\n",
        "    json_file.write(model_json)\n",
        "    model.save_weights(\"model.h5\")\n",
        "print(\"Saved model to disk\")"
      ],
      "execution_count": 20,
      "outputs": [
        {
          "output_type": "stream",
          "text": [
            "Saved model to disk\n"
          ],
          "name": "stdout"
        }
      ]
    },
    {
      "cell_type": "code",
      "metadata": {
        "_uuid": "1332d6dac80ae367cc66ea1e7736d53a65d391eb",
        "colab": {
          "base_uri": "https://localhost:8080/"
        },
        "id": "pRzZ7Kk2vPUr",
        "outputId": "fac1c9a8-135d-442d-b08b-200b7054d50d"
      },
      "source": [
        "loss = model.evaluate(X_test, y_test) \n",
        "print(\"Test Loss \" + str(loss[0]))\n",
        "print(\"Test Acc: \" + str(loss[1]))"
      ],
      "execution_count": 18,
      "outputs": [
        {
          "output_type": "stream",
          "text": [
            "113/113 [==============================] - 2s 18ms/step - loss: 2.5470 - accuracy: 0.5952\n",
            "Test Loss 2.5470142364501953\n",
            "Test Acc: 0.5951518416404724\n"
          ],
          "name": "stdout"
        }
      ]
    },
    {
      "cell_type": "code",
      "metadata": {
        "id": "l-UcAN9qvPUt"
      },
      "source": [
        "'''\n",
        "As the name of the function suggests, we are plotting the confusion matrix \n",
        "with the help of this function\n",
        "'''\n",
        "\n",
        "def plot_confusion_matrix(y_test, y_pred, classes,\n",
        "                          normalize=False,\n",
        "                          title='Unnormalized confusion matrix',\n",
        "                          cmap=plt.cm.Blues):\n",
        "    cm = confusion_matrix(y_test, y_pred)\n",
        "    \n",
        "    if normalize:\n",
        "        cm = np.round(cm.astype('float') / cm.sum(axis=1)[:, np.newaxis], 2)\n",
        "        \n",
        "    np.set_printoptions(precision=2)\n",
        "        \n",
        "    plt.imshow(cm, interpolation='nearest', cmap=cmap)\n",
        "    plt.title(title)\n",
        "    plt.colorbar()\n",
        "    tick_marks = np.arange(len(classes))\n",
        "    plt.xticks(tick_marks, classes, rotation=45)\n",
        "    plt.yticks(tick_marks, classes)\n",
        "\n",
        "    thresh = cm.min() + (cm.max() - cm.min()) / 2.\n",
        "    for i, j in itertools.product(range(cm.shape[0]), range(cm.shape[1])):\n",
        "        plt.text(j, i, cm[i, j],\n",
        "                 horizontalalignment=\"center\",\n",
        "                 color=\"white\" if cm[i, j] > thresh else \"black\")\n",
        "\n",
        "    plt.tight_layout()\n",
        "    plt.ylabel('Actual')\n",
        "    plt.xlabel('Predicted')\n",
        "    plt.show()\n",
        "    return cm"
      ],
      "execution_count": null,
      "outputs": []
    },
    {
      "cell_type": "code",
      "metadata": {
        "colab": {
          "base_uri": "https://localhost:8080/"
        },
        "id": "fn2Kh8YWvPUu",
        "outputId": "8c01f71f-3223-4187-aaaf-b0f28458ef3b"
      },
      "source": [
        "'''\n",
        "Once the training has been done we can evaluate the model and compute loss and accuracy using the below code. \n",
        "'''\n",
        "\n",
        "y_pred_ = model.predict(X_test, verbose=1)\n",
        "y_pred = np.argmax(y_pred_, axis=1)\n",
        "y_te = np.argmax(y_test, axis=1)"
      ],
      "execution_count": 25,
      "outputs": [
        {
          "output_type": "stream",
          "text": [
            "113/113 [==============================] - 1s 12ms/step\n"
          ],
          "name": "stdout"
        }
      ]
    },
    {
      "cell_type": "code",
      "metadata": {
        "colab": {
          "base_uri": "https://localhost:8080/",
          "height": 311
        },
        "id": "LvW0pfmevPU0",
        "outputId": "81eb1d7b-e820-451b-d17a-e86899be27d0"
      },
      "source": [
        "cm = plot_confusion_matrix(y_test=y_te, y_pred=y_pred,\n",
        "                      classes=classes,\n",
        "                      normalize=False,\n",
        "                      #cmap=plt.cm.Greys,\n",
        "                      title='Average accuracy: ' + str(np.sum(y_pred == y_te)/len(y_te)) + '\\n')"
      ],
      "execution_count": 28,
      "outputs": [
        {
          "output_type": "display_data",
          "data": {
            "image/png": "[encoded data removed]",
            "text/plain": [
              "<Figure size 432x288 with 2 Axes>"
            ]
          },
          "metadata": {
            "tags": [],
            "needs_background": "light"
          }
        }
      ]
    },
    {
      "cell_type": "code",
      "metadata": {
        "id": "Tl0h1KTMvPU1"
      },
      "source": [
        "'''\n",
        "After performing the task of classification, not only the test dataset accuracy \n",
        "but also other performance metrics, namely , precision, recall, and F1 score were evaluated.\n",
        "'''\n",
        "\n",
        "TP = np.diag(cm) \n",
        "FP = np.sum(cm, axis=0) - TP\n",
        "FN = np.sum(cm, axis=1) - TP\n",
        "num_classes = len(cm)\n",
        "TN = []\n",
        "for i in range(num_classes):\n",
        "    temp = np.delete(cm, i, 0)    # delete ith row\n",
        "    temp = np.delete(temp, i, 1)  # delete ith column\n",
        "    TN.append(sum(sum(temp)))\n",
        "precision = TP/(TP+FP)\n",
        "recall = TP/(TP+FN)\n",
        "F1 = 2*(precision*recall)/(precision+recall)"
      ],
      "execution_count": 20,
      "outputs": []
    },
    {
      "cell_type": "code",
      "metadata": {
        "colab": {
          "base_uri": "https://localhost:8080/"
        },
        "id": "DzPxdX1BKKtO",
        "outputId": "ab954767-fd31-4cfd-f7da-60b945cdea5d"
      },
      "source": [
        "print(precision)"
      ],
      "execution_count": 22,
      "outputs": [
        {
          "output_type": "stream",
          "text": [
            "[0.5399061  0.69047619 0.41093474 0.81913652 0.51381215 0.77114428\n",
            " 0.46941489]\n"
          ],
          "name": "stdout"
        }
      ]
    },
    {
      "cell_type": "code",
      "metadata": {
        "colab": {
          "base_uri": "https://localhost:8080/"
        },
        "id": "V9xhe-XPLH6B",
        "outputId": "30b6c592-6195-4ed9-8fb6-bd1e3cd65217"
      },
      "source": [
        "print(recall)"
      ],
      "execution_count": 23,
      "outputs": [
        {
          "output_type": "stream",
          "text": [
            "[0.49250535 0.51785714 0.46975806 0.78435754 0.42725881 0.74698795\n",
            " 0.5815486 ]\n"
          ],
          "name": "stdout"
        }
      ]
    },
    {
      "cell_type": "code",
      "metadata": {
        "colab": {
          "base_uri": "https://localhost:8080/"
        },
        "id": "rpVeBO-WLoE0",
        "outputId": "ab05cebc-f1a9-422b-a798-594afd6ae773"
      },
      "source": [
        "print(F1)"
      ],
      "execution_count": 24,
      "outputs": [
        {
          "output_type": "stream",
          "text": [
            "[0.51511758 0.59183673 0.43838194 0.80136986 0.46655518 0.75887393\n",
            " 0.51949963]\n"
          ],
          "name": "stdout"
        }
      ]
    },
    {
      "cell_type": "code",
      "metadata": {
        "colab": {
          "base_uri": "https://localhost:8080/"
        },
        "id": "U1pVaj5WMNkX",
        "outputId": "9305600b-93f4-4027-971d-1ba53fd1f6b3"
      },
      "source": [
        "cm = cm.astype('float') / cm.sum(axis=1)[:, np.newaxis]\n",
        "print(np.diag(cm)) "
      ],
      "execution_count": 25,
      "outputs": [
        {
          "output_type": "stream",
          "text": [
            "[0.49250535 0.51785714 0.46975806 0.78435754 0.42725881 0.74698795\n",
            " 0.5815486 ]\n"
          ],
          "name": "stdout"
        }
      ]
    }
  ]
}